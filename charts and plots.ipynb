{
 "cells": [
  {
   "cell_type": "markdown",
   "metadata": {},
   "source": [
    "## Import Packages"
   ]
  },
  {
   "cell_type": "code",
   "execution_count": 1,
   "metadata": {},
   "outputs": [],
   "source": [
    "import plotly\n",
    "import pandas as pd\n",
    "import numpy as np\n",
    "import seaborn as sns\n",
    "import plotly.express as pximport \n",
    "import itertools\n",
    "# from scipy.optimize import curve_fit\n",
    "\n",
    "import matplotlib.pyplot as plt\n",
    "\n",
    "%matplotlib inline"
   ]
  },
  {
   "cell_type": "markdown",
   "metadata": {},
   "source": [
    "## Import Data"
   ]
  },
  {
   "cell_type": "code",
   "execution_count": 2,
   "metadata": {},
   "outputs": [],
   "source": [
    "systematic_noise_df = pd.read_csv(\n",
    "    '../data/conll_noise_induction/systematic_error.csv'\n",
    ")\n",
    "\n",
    "random_noise_df = pd.read_csv(\n",
    "    '../data/conll_noise_induction/random_error.csv'\n",
    ")\n",
    "\n",
    "denoise_df = pd.read_csv(\n",
    "    '../data/conll_noise_induction/denoise.csv'\n",
    ")"
   ]
  },
  {
   "cell_type": "code",
   "execution_count": 3,
   "metadata": {},
   "outputs": [],
   "source": [
    "# General Functions\n",
    "def func_exp(x, a, b, c):\n",
    "    \"\"\"Return values from a general exponential function.\"\"\"\n",
    "    return a * np.exp(b * x) + c\n",
    "\n",
    "\n",
    "def func_log(x, a, b, c):\n",
    "    \"\"\"Return values from a general log function.\"\"\"\n",
    "    return a * np.log(b * x) + c\n",
    "\n",
    "\n",
    "# Helper\n",
    "def generate_data(func, *args, jitter=0):\n",
    "    \"\"\"Return a tuple of arrays with random data along a general function.\"\"\"\n",
    "    xs = np.linspace(1, 5, 50)\n",
    "    ys = func(xs, *args)\n",
    "    noise = jitter * np.random.normal(size=len(xs)) + jitter\n",
    "    xs = xs.reshape(-1, 1)                                  # xs[:, np.newaxis]\n",
    "    ys = (ys + noise).reshape(-1, 1)\n",
    "    return xs, ys"
   ]
  },
  {
   "cell_type": "code",
   "execution_count": 4,
   "metadata": {},
   "outputs": [],
   "source": [
    "def plot_after_sorting(x_col, y_col, data):\n",
    "    \n",
    "    x, y = data[x_col], data[y_col]\n",
    "#     lists = sorted(itertools.izip(*[x, y]))\n",
    "#     new_x, new_y = list(itertools.izip(*lists))\n",
    "    new_x, new_y = zip(*sorted(zip(x, y)))\n",
    "    \n",
    "    plt.plot(new_x, new_y)\n",
    "    plt.show()"
   ]
  },
  {
   "cell_type": "code",
   "execution_count": 5,
   "metadata": {},
   "outputs": [],
   "source": [
    "def reorder_for_plotting(x_col, y_col, data):\n",
    "    x, y = data[x_col], data[y_col]\n",
    "    new_x, new_y = zip(*sorted(zip(x, y)))\n",
    "    \n",
    "    return new_x, new_y"
   ]
  },
  {
   "cell_type": "code",
   "execution_count": 6,
   "metadata": {},
   "outputs": [],
   "source": [
    "# our Worker F1 and test accuracy are all decimals, whereas model metrics are not. \n",
    "# we need to multiply Worker metrics by 100 for consistency. \n",
    "\n",
    "systematic_noise_df['worker_avg_f1'] = systematic_noise_df['worker_avg_f1'] * 100\n",
    "systematic_noise_df['test_accuracy'] = systematic_noise_df['test_accuracy'] * 100\n",
    "\n",
    "random_noise_df['worker_avg_f1'] = random_noise_df['worker_avg_f1'] * 100\n",
    "random_noise_df['test_accuracy'] = random_noise_df['test_accuracy'] * 100\n",
    "\n",
    "denoise_df['worker_avg_f1'] = denoise_df['worker_avg_f1'] * 100\n",
    "denoise_df['test_accuracy'] = denoise_df['test_accuracy'] * 100"
   ]
  },
  {
   "cell_type": "code",
   "execution_count": 7,
   "metadata": {},
   "outputs": [],
   "source": [
    "\"\"\"\n",
    "Colours for graphs, optimised for:\n",
    "- black and white printing\n",
    "- protanopia\n",
    "- deuteranopia\n",
    "- tritanopia\n",
    "\n",
    "\"\"\"\n",
    "\n",
    "colour_dict = {\n",
    "    1: \"#D81B60\",\n",
    "    2: \"#1E88E5\",\n",
    "    3: \"#FFC107\",\n",
    "    4: \"#004D40\"\n",
    "}"
   ]
  },
  {
   "cell_type": "markdown",
   "metadata": {},
   "source": [
    "## Systematic Noise"
   ]
  },
  {
   "cell_type": "code",
   "execution_count": 8,
   "metadata": {},
   "outputs": [
    {
     "data": {
      "text/html": [
       "<div>\n",
       "<style scoped>\n",
       "    .dataframe tbody tr th:only-of-type {\n",
       "        vertical-align: middle;\n",
       "    }\n",
       "\n",
       "    .dataframe tbody tr th {\n",
       "        vertical-align: top;\n",
       "    }\n",
       "\n",
       "    .dataframe thead th {\n",
       "        text-align: right;\n",
       "    }\n",
       "</style>\n",
       "<table border=\"1\" class=\"dataframe\">\n",
       "  <thead>\n",
       "    <tr style=\"text-align: right;\">\n",
       "      <th></th>\n",
       "      <th>noise_prop</th>\n",
       "      <th>worker_avg_f1</th>\n",
       "      <th>worker_std_f1</th>\n",
       "      <th>test_accuracy</th>\n",
       "      <th>model_precision</th>\n",
       "      <th>model_recall</th>\n",
       "      <th>model_f1</th>\n",
       "    </tr>\n",
       "  </thead>\n",
       "  <tbody>\n",
       "    <tr>\n",
       "      <td>0</td>\n",
       "      <td>0.00</td>\n",
       "      <td>61.120755</td>\n",
       "      <td>0.171028</td>\n",
       "      <td>92.841011</td>\n",
       "      <td>67.77</td>\n",
       "      <td>58.41</td>\n",
       "      <td>62.74</td>\n",
       "    </tr>\n",
       "    <tr>\n",
       "      <td>1</td>\n",
       "      <td>0.02</td>\n",
       "      <td>59.929287</td>\n",
       "      <td>0.167551</td>\n",
       "      <td>92.607375</td>\n",
       "      <td>67.59</td>\n",
       "      <td>57.32</td>\n",
       "      <td>62.03</td>\n",
       "    </tr>\n",
       "    <tr>\n",
       "      <td>2</td>\n",
       "      <td>0.04</td>\n",
       "      <td>58.635514</td>\n",
       "      <td>0.164028</td>\n",
       "      <td>92.422413</td>\n",
       "      <td>65.02</td>\n",
       "      <td>57.40</td>\n",
       "      <td>60.97</td>\n",
       "    </tr>\n",
       "    <tr>\n",
       "      <td>3</td>\n",
       "      <td>0.06</td>\n",
       "      <td>57.909218</td>\n",
       "      <td>0.160629</td>\n",
       "      <td>92.706670</td>\n",
       "      <td>69.03</td>\n",
       "      <td>57.79</td>\n",
       "      <td>62.91</td>\n",
       "    </tr>\n",
       "    <tr>\n",
       "      <td>4</td>\n",
       "      <td>0.08</td>\n",
       "      <td>56.399369</td>\n",
       "      <td>0.156127</td>\n",
       "      <td>92.632686</td>\n",
       "      <td>67.85</td>\n",
       "      <td>57.57</td>\n",
       "      <td>62.29</td>\n",
       "    </tr>\n",
       "  </tbody>\n",
       "</table>\n",
       "</div>"
      ],
      "text/plain": [
       "   noise_prop  worker_avg_f1  worker_std_f1  test_accuracy  model_precision  \\\n",
       "0        0.00      61.120755       0.171028      92.841011            67.77   \n",
       "1        0.02      59.929287       0.167551      92.607375            67.59   \n",
       "2        0.04      58.635514       0.164028      92.422413            65.02   \n",
       "3        0.06      57.909218       0.160629      92.706670            69.03   \n",
       "4        0.08      56.399369       0.156127      92.632686            67.85   \n",
       "\n",
       "   model_recall  model_f1  \n",
       "0         58.41     62.74  \n",
       "1         57.32     62.03  \n",
       "2         57.40     60.97  \n",
       "3         57.79     62.91  \n",
       "4         57.57     62.29  "
      ]
     },
     "execution_count": 8,
     "metadata": {},
     "output_type": "execute_result"
    }
   ],
   "source": [
    "systematic_noise_df.head()"
   ]
  },
  {
   "cell_type": "code",
   "execution_count": 9,
   "metadata": {},
   "outputs": [
    {
     "data": {
      "image/png": "[encoded data removed]",
      "text/plain": [
       "<Figure size 432x288 with 1 Axes>"
      ]
     },
     "metadata": {
      "needs_background": "light"
     },
     "output_type": "display_data"
    }
   ],
   "source": [
    "# This graph shows the linear relationship between systematic noise proportion and Worker Accuracy.\n",
    "\n",
    "x, y = reorder_for_plotting('noise_prop', 'worker_avg_f1', data=systematic_noise_df)\n",
    "plt.plot(x, y)\n",
    "plt.xlabel('Systematic Noise Proportion')\n",
    "# plt.xlim(0, 1)\n",
    "plt.ylabel('Average Worker Accuracy (F1)')\n",
    "# plt.ylim(0, 1)\n",
    "plt.title('Systematic Noise Proportion vs. Average Worker Accuracy')\n",
    "plt.show()"
   ]
  },
  {
   "cell_type": "code",
   "execution_count": 10,
   "metadata": {},
   "outputs": [
    {
     "data": {
      "image/png": "[encoded data removed]",
      "text/plain": [
       "<Figure size 432x288 with 1 Axes>"
      ]
     },
     "metadata": {
      "needs_background": "light"
     },
     "output_type": "display_data"
    }
   ],
   "source": [
    "# Plot systematic noise v resultant model performance\n",
    "\n",
    "# use LaTeX fonts in the plot\n",
    "plt.rc('text', usetex=True)\n",
    "plt.rc('font', family='serif')\n",
    "\n",
    "f = plt.figure()\n",
    "x, y = reorder_for_plotting('worker_avg_f1', 'model_f1', data=systematic_noise_df)\n",
    "plt.scatter(x, y, label = 'Systematic Noise', color = colour_dict[2], s=12)\n",
    "# plt.plot(x, y_fit, \"k--\", label='fitted function')\n",
    "# plt.plot(x, p(x), \"k--\", label='fitted function')\n",
    "\n",
    "# add threshold\n",
    "plt.axvline(x=40, linestyle='dashed', color=colour_dict[4], label = 'Threshold')\n",
    "\n",
    "plt.legend(loc='best')\n",
    "plt.xlabel(r'\\textbf{Average Worker Performance (F1)}', fontsize = 11)\n",
    "plt.xlim(0, 100)\n",
    "plt.ylim(0, 80)\n",
    "plt.ylabel(r'\\textbf{Model Performance (F1)}', fontsize = 11)\n",
    "plt.title(r'\\textbf{Systematic Noise Induction}', fontsize = 11)\n",
    "plt.show()\n",
    "\n",
    "# save as pdf\n",
    "f.savefig(\"figures/systematic_noise.pdf\", bbox_inches='tight')"
   ]
  },
  {
   "cell_type": "markdown",
   "metadata": {},
   "source": [
    "## Random Noise"
   ]
  },
  {
   "cell_type": "code",
   "execution_count": 11,
   "metadata": {},
   "outputs": [
    {
     "data": {
      "text/html": [
       "<div>\n",
       "<style scoped>\n",
       "    .dataframe tbody tr th:only-of-type {\n",
       "        vertical-align: middle;\n",
       "    }\n",
       "\n",
       "    .dataframe tbody tr th {\n",
       "        vertical-align: top;\n",
       "    }\n",
       "\n",
       "    .dataframe thead th {\n",
       "        text-align: right;\n",
       "    }\n",
       "</style>\n",
       "<table border=\"1\" class=\"dataframe\">\n",
       "  <thead>\n",
       "    <tr style=\"text-align: right;\">\n",
       "      <th></th>\n",
       "      <th>noise_prop</th>\n",
       "      <th>worker_avg_f1</th>\n",
       "      <th>worker_std_f1</th>\n",
       "      <th>test_accuracy</th>\n",
       "      <th>model_precision</th>\n",
       "      <th>model_recall</th>\n",
       "      <th>model_f1</th>\n",
       "    </tr>\n",
       "  </thead>\n",
       "  <tbody>\n",
       "    <tr>\n",
       "      <td>0</td>\n",
       "      <td>0.00</td>\n",
       "      <td>61.120755</td>\n",
       "      <td>0.171028</td>\n",
       "      <td>92.733928</td>\n",
       "      <td>67.09</td>\n",
       "      <td>57.97</td>\n",
       "      <td>62.20</td>\n",
       "    </tr>\n",
       "    <tr>\n",
       "      <td>1</td>\n",
       "      <td>0.02</td>\n",
       "      <td>60.015821</td>\n",
       "      <td>0.167162</td>\n",
       "      <td>92.437989</td>\n",
       "      <td>66.90</td>\n",
       "      <td>55.46</td>\n",
       "      <td>60.65</td>\n",
       "    </tr>\n",
       "    <tr>\n",
       "      <td>2</td>\n",
       "      <td>0.04</td>\n",
       "      <td>59.063098</td>\n",
       "      <td>0.164617</td>\n",
       "      <td>92.687201</td>\n",
       "      <td>68.80</td>\n",
       "      <td>55.33</td>\n",
       "      <td>61.33</td>\n",
       "    </tr>\n",
       "    <tr>\n",
       "      <td>3</td>\n",
       "      <td>0.06</td>\n",
       "      <td>57.836609</td>\n",
       "      <td>0.161588</td>\n",
       "      <td>92.441883</td>\n",
       "      <td>68.64</td>\n",
       "      <td>54.13</td>\n",
       "      <td>60.53</td>\n",
       "    </tr>\n",
       "    <tr>\n",
       "      <td>4</td>\n",
       "      <td>0.08</td>\n",
       "      <td>56.901910</td>\n",
       "      <td>0.159278</td>\n",
       "      <td>92.548966</td>\n",
       "      <td>67.46</td>\n",
       "      <td>55.78</td>\n",
       "      <td>61.07</td>\n",
       "    </tr>\n",
       "  </tbody>\n",
       "</table>\n",
       "</div>"
      ],
      "text/plain": [
       "   noise_prop  worker_avg_f1  worker_std_f1  test_accuracy  model_precision  \\\n",
       "0        0.00      61.120755       0.171028      92.733928            67.09   \n",
       "1        0.02      60.015821       0.167162      92.437989            66.90   \n",
       "2        0.04      59.063098       0.164617      92.687201            68.80   \n",
       "3        0.06      57.836609       0.161588      92.441883            68.64   \n",
       "4        0.08      56.901910       0.159278      92.548966            67.46   \n",
       "\n",
       "   model_recall  model_f1  \n",
       "0         57.97     62.20  \n",
       "1         55.46     60.65  \n",
       "2         55.33     61.33  \n",
       "3         54.13     60.53  \n",
       "4         55.78     61.07  "
      ]
     },
     "execution_count": 11,
     "metadata": {},
     "output_type": "execute_result"
    }
   ],
   "source": [
    "random_noise_df.head()"
   ]
  },
  {
   "cell_type": "code",
   "execution_count": 12,
   "metadata": {},
   "outputs": [
    {
     "data": {
      "image/png": "[encoded data removed]",
      "text/plain": [
       "<Figure size 432x288 with 1 Axes>"
      ]
     },
     "metadata": {
      "needs_background": "light"
     },
     "output_type": "display_data"
    }
   ],
   "source": [
    "# This graph shows the linear relationship between random noise proportion and Worker Accuracy.\n",
    "\n",
    "x, y = reorder_for_plotting('noise_prop', 'worker_avg_f1', data=random_noise_df)\n",
    "plt.plot(x, y)\n",
    "plt.xlabel('Random Noise Proportion')\n",
    "# plt.xlim(0, 1)\n",
    "plt.ylabel('Average Worker Accuracy (F1)')\n",
    "# plt.ylim(0, 1)\n",
    "plt.title('Random Noise Proportion vs. Average Worker Accuracy')\n",
    "plt.show()"
   ]
  },
  {
   "cell_type": "markdown",
   "metadata": {},
   "source": [
    "## De-Noise"
   ]
  },
  {
   "cell_type": "code",
   "execution_count": 13,
   "metadata": {},
   "outputs": [
    {
     "data": {
      "text/html": [
       "<div>\n",
       "<style scoped>\n",
       "    .dataframe tbody tr th:only-of-type {\n",
       "        vertical-align: middle;\n",
       "    }\n",
       "\n",
       "    .dataframe tbody tr th {\n",
       "        vertical-align: top;\n",
       "    }\n",
       "\n",
       "    .dataframe thead th {\n",
       "        text-align: right;\n",
       "    }\n",
       "</style>\n",
       "<table border=\"1\" class=\"dataframe\">\n",
       "  <thead>\n",
       "    <tr style=\"text-align: right;\">\n",
       "      <th></th>\n",
       "      <th>noise_prop</th>\n",
       "      <th>worker_avg_f1</th>\n",
       "      <th>worker_std_f1</th>\n",
       "      <th>test_accuracy</th>\n",
       "      <th>model_precision</th>\n",
       "      <th>model_recall</th>\n",
       "      <th>model_f1</th>\n",
       "    </tr>\n",
       "  </thead>\n",
       "  <tbody>\n",
       "    <tr>\n",
       "      <td>0</td>\n",
       "      <td>0.00</td>\n",
       "      <td>61.120755</td>\n",
       "      <td>0.171028</td>\n",
       "      <td>92.733928</td>\n",
       "      <td>66.74</td>\n",
       "      <td>58.12</td>\n",
       "      <td>62.14</td>\n",
       "    </tr>\n",
       "    <tr>\n",
       "      <td>1</td>\n",
       "      <td>0.02</td>\n",
       "      <td>62.169428</td>\n",
       "      <td>0.166566</td>\n",
       "      <td>92.737822</td>\n",
       "      <td>66.49</td>\n",
       "      <td>59.10</td>\n",
       "      <td>62.58</td>\n",
       "    </tr>\n",
       "    <tr>\n",
       "      <td>2</td>\n",
       "      <td>0.04</td>\n",
       "      <td>62.865310</td>\n",
       "      <td>0.162204</td>\n",
       "      <td>92.677466</td>\n",
       "      <td>65.98</td>\n",
       "      <td>59.07</td>\n",
       "      <td>62.33</td>\n",
       "    </tr>\n",
       "    <tr>\n",
       "      <td>3</td>\n",
       "      <td>0.06</td>\n",
       "      <td>63.791245</td>\n",
       "      <td>0.156103</td>\n",
       "      <td>92.817647</td>\n",
       "      <td>67.48</td>\n",
       "      <td>57.45</td>\n",
       "      <td>62.06</td>\n",
       "    </tr>\n",
       "    <tr>\n",
       "      <td>4</td>\n",
       "      <td>0.08</td>\n",
       "      <td>64.811062</td>\n",
       "      <td>0.152893</td>\n",
       "      <td>93.057124</td>\n",
       "      <td>67.50</td>\n",
       "      <td>60.23</td>\n",
       "      <td>63.66</td>\n",
       "    </tr>\n",
       "  </tbody>\n",
       "</table>\n",
       "</div>"
      ],
      "text/plain": [
       "   noise_prop  worker_avg_f1  worker_std_f1  test_accuracy  model_precision  \\\n",
       "0        0.00      61.120755       0.171028      92.733928            66.74   \n",
       "1        0.02      62.169428       0.166566      92.737822            66.49   \n",
       "2        0.04      62.865310       0.162204      92.677466            65.98   \n",
       "3        0.06      63.791245       0.156103      92.817647            67.48   \n",
       "4        0.08      64.811062       0.152893      93.057124            67.50   \n",
       "\n",
       "   model_recall  model_f1  \n",
       "0         58.12     62.14  \n",
       "1         59.10     62.58  \n",
       "2         59.07     62.33  \n",
       "3         57.45     62.06  \n",
       "4         60.23     63.66  "
      ]
     },
     "execution_count": 13,
     "metadata": {},
     "output_type": "execute_result"
    }
   ],
   "source": [
    "denoise_df.head()"
   ]
  },
  {
   "cell_type": "code",
   "execution_count": 14,
   "metadata": {},
   "outputs": [
    {
     "data": {
      "image/png": "[encoded data removed]",
      "text/plain": [
       "<Figure size 432x288 with 1 Axes>"
      ]
     },
     "metadata": {
      "needs_background": "light"
     },
     "output_type": "display_data"
    }
   ],
   "source": [
    "# This graph shows the linear relationship between de-noise proportion and Worker Accuracy.\n",
    "\n",
    "x, y = reorder_for_plotting('noise_prop', 'worker_avg_f1', data=denoise_df)\n",
    "plt.plot(x, y)\n",
    "plt.xlabel('De-Noise Proportion')\n",
    "# plt.xlim(0, 1)\n",
    "plt.ylabel('Average Worker Accuracy (F1)')\n",
    "# plt.ylim(0, 1)\n",
    "plt.title('Random De-noise Proportion vs. Average Worker Accuracy')\n",
    "plt.show()"
   ]
  },
  {
   "cell_type": "markdown",
   "metadata": {},
   "source": [
    "## Random Noise - Combined Noise and Denoise"
   ]
  },
  {
   "cell_type": "code",
   "execution_count": 15,
   "metadata": {},
   "outputs": [],
   "source": [
    "random_noise_combined_df = random_noise_df.append(denoise_df, ignore_index=True)\n",
    "x, y = reorder_for_plotting('worker_avg_f1', 'model_f1', data=random_noise_combined_df)"
   ]
  },
  {
   "cell_type": "code",
   "execution_count": 16,
   "metadata": {},
   "outputs": [
    {
     "data": {
      "image/png": "[encoded data removed]",
      "text/plain": [
       "<Figure size 432x288 with 1 Axes>"
      ]
     },
     "metadata": {
      "needs_background": "light"
     },
     "output_type": "display_data"
    }
   ],
   "source": [
    "# this time plot separately on same graph\n",
    "\n",
    "# use LaTeX fonts in the plot\n",
    "plt.rc('text', usetex=True)\n",
    "plt.rc('font', family='serif')\n",
    "\n",
    "f = plt.figure()\n",
    "\n",
    "# random noise\n",
    "x, y = reorder_for_plotting('worker_avg_f1', 'model_f1', data=random_noise_df)\n",
    "plt.scatter(x, y, label = 'Random Noise', color = colour_dict[1], s = 12)\n",
    "\n",
    "# denoise\n",
    "x, y = reorder_for_plotting('worker_avg_f1', 'model_f1', data=denoise_df)\n",
    "plt.scatter(x, y, label = 'De-Noise', color = colour_dict[3], s = 12)\n",
    "\n",
    "# add thresholds\n",
    "plt.axvline(x=40, linestyle='dashed', color=colour_dict[4], label = 'Thresholds')\n",
    "plt.axvline(x=70, linestyle='dashed', color=colour_dict[4])\n",
    "\n",
    "plt.xlim(0, 100)\n",
    "plt.ylim(0, 80)\n",
    "plt.legend(loc='best')\n",
    "plt.xlabel(r'\\textbf{Average Worker Performance (F1)}', fontsize = 11)\n",
    "plt.ylabel(r'\\textbf{Model Performance (F1)}', fontsize = 11)\n",
    "plt.title(r'\\textbf{Combined Random Noise/Denoise Induction}', fontsize = 11)\n",
    "plt.show()\n",
    "\n",
    "# save as pdf\n",
    "f.savefig(\"figures/random_noise_combined.pdf\", bbox_inches='tight')"
   ]
  }
 ],
 "metadata": {
  "interpreter": {
   "hash": "397704579725e15f5c7cb49fe5f0341eb7531c82d19f2c29d197e8b64ab5776b"
  },
  "kernelspec": {
   "display_name": "Python 3.9.0 64-bit",
   "name": "python3"
  },
  "language_info": {
   "codemirror_mode": {
    "name": "ipython",
    "version": 3
   },
   "file_extension": ".py",
   "mimetype": "text/x-python",
   "name": "python",
   "nbconvert_exporter": "python",
   "pygments_lexer": "ipython3",
   "version": "3.9.0"
  }
 },
 "nbformat": 4,
 "nbformat_minor": 2
}
